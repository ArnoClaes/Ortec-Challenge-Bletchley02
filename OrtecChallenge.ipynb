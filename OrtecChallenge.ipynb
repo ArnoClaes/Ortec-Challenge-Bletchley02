{
  "nbformat": 4,
  "nbformat_minor": 0,
  "metadata": {
    "colab": {
      "name": "OrtecMaybe.ipynb",
      "version": "0.3.2",
      "views": {},
      "default_view": {},
      "provenance": [],
      "collapsed_sections": []
    }
  },
  "cells": [
    {
      "metadata": {
        "id": "c8lKnqDVY3nx",
        "colab_type": "text"
      },
      "cell_type": "markdown",
      "source": [
        "# *Ortec Finance Invoice Data Extractor*\n",
        "---\n",
        "##**Architecting the present model** \n",
        "Several fundamental aspects have been altered from the baseline provided to us. Firstly, the invoicegenerator was tweaked in order to generate both the training and validation datasets. Consequently, we manipulated the invoicegenerator to account for more other targets, e.g. item quantity, item names and terms & conditions. Secondly, two models are created which consider different targets. These models are tweaked through their hyperparameters, see readme.txt for specifics, trying to optimize training accuracy  validation accuracies. Once the predictive model had been constructed, it could be used to search the magnificent world wide web for confirming the existence of the company. This is done through creating a sorted list of predictions and extracting and extracting the sender name and KVK number targets. These model outputs are used as the input for the google search function, which is concatenated with 'NL' in order to filter out google searches to locally relevant results. \\\n",
        "\n",
        "##**Constraints encountered through our journey** \n",
        "During the present solution's development for the \"automatic invoice reader\" problem there we encountered a few constraints, which are elaborated on here. Firstly, a major bottleneck is attributable to the limited amount of training data incorporated. The present model is fed data with regards to 5 separate entities, each entailing 28 possible items and the invoices are only formatted over 2 templates. Thus, our model will not generalize effectively to many observations outside of the current sample since the Artificial intelligence phenomenon works brilliantly in the presence of a large and diverse dataset. The constraints mentioned ultimtely lead to an unavoidable bias *-overfitting-* towards the items, companies and certainly the templates provided. Next to the bias another problem of the lack of data is the amount of information that can be retrieved. After a few epochs we it is observed that the model cannot be trained further, which is attributed to the lack of information. Lastly, a KVK api key was not granted to us by the government agency, thus we were unable to use this required channel for confirming an entity's registration. \\\n",
        "\n",
        "\n",
        "##**The present model's results**\n",
        "In architecting an acceptable solution, we attempted to account for the constraints listed above. This is done by creating two models; one that is predominantly perfect (100% validation accuracy) in predicting simple targets e.g. Company name, and one that is extremely good (99.58% validation accuracy) in predicting complex targets, e.g. item descriptions. Also, quite an elegant solution is operationalized in filtering the list of results to return the most similar google-search result in comparison to the company name outputted by the predictive model. \n",
        "\n",
        "##### When life gives you lemons, you make lemonade....\n",
        "\n",
        "\n"
      ]
    },
    {
      "metadata": {
        "id": "OTp0VpI0A9f3",
        "colab_type": "code",
        "colab": {
          "autoexec": {
            "startup": false,
            "wait_interval": 0
          },
          "output_extras": [
            {
              "item_id": 1
            },
            {
              "item_id": 2
            }
          ],
          "resources": {
            "http://localhost:8080/nbextensions/google.colab/files.js": {
              "data": "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",
              "ok": true,
              "headers": [
                [
                  "content-type",
                  "application/javascript"
                ]
              ],
              "status": 200,
              "status_text": ""
            }
          },
          "base_uri": "https://localhost:8080/",
          "height": 71
        },
        "cellView": "code",
        "outputId": "f80eb7b8-718b-4ef8-d016-f1ae9cb97d7b",
        "executionInfo": {
          "status": "ok",
          "timestamp": 1521490727239,
          "user_tz": -60,
          "elapsed": 16023,
          "user": {
            "displayName": "Arno Claes",
            "photoUrl": "https://lh3.googleusercontent.com/a/default-user=s128",
            "userId": "114929370230511213993"
          }
        }
      },
      "cell_type": "code",
      "source": [
        "#@title Default title text\n",
        "# Setup\n",
        "\n",
        "from google.colab import files\n",
        "uploaded = files.upload()"
      ],
      "execution_count": 4,
      "outputs": [
        {
          "output_type": "display_data",
          "data": {
            "text/plain": [
              "<IPython.core.display.HTML object>"
            ],
            "text/html": [
              "\n",
              "     <input type=\"file\" id=\"files-97569bbe-050c-4db9-9a05-8043f776786d\" name=\"files[]\" multiple disabled />\n",
              "     <output id=\"result-97569bbe-050c-4db9-9a05-8043f776786d\">\n",
              "      Upload widget is only available when the cell has been executed in the\n",
              "      current browser session. Please rerun this cell to enable.\n",
              "      </output>\n",
              "      <script src=\"/nbextensions/google.colab/files.js\"></script> "
            ]
          },
          "metadata": {
            "tags": []
          }
        },
        {
          "output_type": "stream",
          "text": [
            "Saving templates.zip to templates.zip\n"
          ],
          "name": "stdout"
        }
      ]
    },
    {
      "metadata": {
        "id": "4sTroRmREKrv",
        "colab_type": "code",
        "colab": {
          "autoexec": {
            "startup": false,
            "wait_interval": 0
          },
          "output_extras": [
            {
              "item_id": 1
            }
          ],
          "base_uri": "https://localhost:8080/",
          "height": 218
        },
        "outputId": "92648b36-0411-410a-be84-7e6b0ec1ca89",
        "executionInfo": {
          "status": "ok",
          "timestamp": 1521490736947,
          "user_tz": -60,
          "elapsed": 1683,
          "user": {
            "displayName": "Arno Claes",
            "photoUrl": "https://lh3.googleusercontent.com/a/default-user=s128",
            "userId": "114929370230511213993"
          }
        }
      },
      "cell_type": "code",
      "source": [
        "!unzip templates.zip"
      ],
      "execution_count": 5,
      "outputs": [
        {
          "output_type": "stream",
          "text": [
            "Archive:  templates.zip\r\n",
            "   creating: templates/\r\n",
            "  inflating: templates/.DS_Store     \r\n",
            "   creating: templates/.ipynb_checkpoints/\r\n",
            "  inflating: templates/.ipynb_checkpoints/Baseline Ortec-checkpoint.ipynb  \r\n",
            "  inflating: templates/.ipynb_checkpoints/Untitled-checkpoint.ipynb  \r\n",
            "  inflating: templates/.ipynb_checkpoints/Untitled1-checkpoint.ipynb  \r\n",
            "  inflating: templates/invoicegen.py  \r\n",
            "  inflating: templates/TEMPLATE_1.txt  \r\n",
            "  inflating: templates/TEMPLATE_2.txt  \r\n",
            "   creating: templates/__pycache__/\r\n",
            "  inflating: templates/__pycache__/invoicegen.cpython-35.pyc  \r\n"
          ],
          "name": "stdout"
        }
      ]
    },
    {
      "metadata": {
        "id": "NTP3SjqKBbtA",
        "colab_type": "code",
        "colab": {
          "autoexec": {
            "startup": false,
            "wait_interval": 0
          },
          "output_extras": [
            {
              "item_id": 1
            }
          ],
          "base_uri": "https://localhost:8080/",
          "height": 50
        },
        "outputId": "74ce6d04-e766-419a-acc9-0f8630566c82",
        "executionInfo": {
          "status": "ok",
          "timestamp": 1521490702115,
          "user_tz": -60,
          "elapsed": 1525,
          "user": {
            "displayName": "Arno Claes",
            "photoUrl": "https://lh3.googleusercontent.com/a/default-user=s128",
            "userId": "114929370230511213993"
          }
        }
      },
      "cell_type": "code",
      "source": [
        "!rm *"
      ],
      "execution_count": 1,
      "outputs": [
        {
          "output_type": "stream",
          "text": [
            "rm: cannot remove 'datalab': Is a directory\r\n",
            "rm: cannot remove 'templates': Is a directory\r\n"
          ],
          "name": "stdout"
        }
      ]
    },
    {
      "metadata": {
        "id": "YxYlOCo_GMZY",
        "colab_type": "code",
        "colab": {
          "autoexec": {
            "startup": false,
            "wait_interval": 0
          }
        }
      },
      "cell_type": "code",
      "source": [
        "!rm -r templates"
      ],
      "execution_count": 0,
      "outputs": []
    },
    {
      "metadata": {
        "id": "xqLFhxrVBjlu",
        "colab_type": "code",
        "colab": {
          "autoexec": {
            "startup": false,
            "wait_interval": 0
          },
          "output_extras": [
            {
              "item_id": 1
            }
          ],
          "base_uri": "https://localhost:8080/",
          "height": 33
        },
        "outputId": "6cb63226-19be-43ca-9bb5-c823945d5439",
        "executionInfo": {
          "status": "ok",
          "timestamp": 1521492249679,
          "user_tz": -60,
          "elapsed": 1991,
          "user": {
            "displayName": "Arno Claes",
            "photoUrl": "https://lh3.googleusercontent.com/a/default-user=s128",
            "userId": "114929370230511213993"
          }
        }
      },
      "cell_type": "code",
      "source": [
        "!ls"
      ],
      "execution_count": 59,
      "outputs": [
        {
          "output_type": "stream",
          "text": [
            "datalab  templates  templates.zip\r\n"
          ],
          "name": "stdout"
        }
      ]
    },
    {
      "metadata": {
        "id": "jOH46bkCBmQ4",
        "colab_type": "code",
        "colab": {
          "autoexec": {
            "startup": false,
            "wait_interval": 0
          },
          "output_extras": [
            {
              "item_id": 1
            }
          ],
          "base_uri": "https://localhost:8080/",
          "height": 101
        },
        "outputId": "487391a2-137c-4a86-e4fb-9b5a35501a8e",
        "executionInfo": {
          "status": "ok",
          "timestamp": 1521492262180,
          "user_tz": -60,
          "elapsed": 2564,
          "user": {
            "displayName": "Arno Claes",
            "photoUrl": "https://lh3.googleusercontent.com/a/default-user=s128",
            "userId": "114929370230511213993"
          }
        }
      },
      "cell_type": "code",
      "source": [
        "!pip install pandas"
      ],
      "execution_count": 60,
      "outputs": [
        {
          "output_type": "stream",
          "text": [
            "Requirement already satisfied: pandas in /usr/local/lib/python2.7/dist-packages\r\n",
            "Requirement already satisfied: pytz>=2011k in /usr/local/lib/python2.7/dist-packages (from pandas)\r\n",
            "Requirement already satisfied: python-dateutil in /usr/local/lib/python2.7/dist-packages (from pandas)\r\n",
            "Requirement already satisfied: numpy>=1.9.0 in /usr/local/lib/python2.7/dist-packages (from pandas)\r\n",
            "Requirement already satisfied: six>=1.5 in /usr/local/lib/python2.7/dist-packages (from python-dateutil->pandas)\r\n"
          ],
          "name": "stdout"
        }
      ]
    },
    {
      "metadata": {
        "id": "3rLxXjErkQRQ",
        "colab_type": "code",
        "colab": {
          "autoexec": {
            "startup": false,
            "wait_interval": 0
          },
          "output_extras": [
            {
              "item_id": 1
            }
          ],
          "base_uri": "https://localhost:8080/",
          "height": 67
        },
        "outputId": "8c7936ba-a43d-4d3a-b54f-5bbce4bea678",
        "executionInfo": {
          "status": "ok",
          "timestamp": 1521492265871,
          "user_tz": -60,
          "elapsed": 2433,
          "user": {
            "displayName": "Arno Claes",
            "photoUrl": "https://lh3.googleusercontent.com/a/default-user=s128",
            "userId": "114929370230511213993"
          }
        }
      },
      "cell_type": "code",
      "source": [
        "!pip install google-search"
      ],
      "execution_count": 61,
      "outputs": [
        {
          "output_type": "stream",
          "text": [
            "Requirement already satisfied: google-search in /usr/local/lib/python2.7/dist-packages\r\n",
            "Requirement already satisfied: lxml in /usr/local/lib/python2.7/dist-packages (from google-search)\r\n",
            "Requirement already satisfied: beautifulsoup4 in /usr/local/lib/python2.7/dist-packages (from google-search)\r\n"
          ],
          "name": "stdout"
        }
      ]
    },
    {
      "metadata": {
        "id": "KL12tRXaBrYg",
        "colab_type": "code",
        "colab": {
          "autoexec": {
            "startup": false,
            "wait_interval": 0
          }
        }
      },
      "cell_type": "code",
      "source": [
        "!pip install -q keras"
      ],
      "execution_count": 0,
      "outputs": []
    },
    {
      "metadata": {
        "id": "GIrqg289BtEj",
        "colab_type": "code",
        "colab": {
          "autoexec": {
            "startup": false,
            "wait_interval": 0
          }
        }
      },
      "cell_type": "code",
      "source": [
        "# System hyper parameters here\n",
        "\n",
        "# How many characters before and after the main char to feed the NN\n",
        "PADDING = 35\n",
        "\n",
        "\n",
        "'''\n",
        "Ignore:           0       COMPLEXITY = FALSE       COMPLEXITY = TRUE\n",
        "                        Sender Name:      1   F  Date:          7   T\n",
        "                        Sender KVK:       2   F  Item:          8   T\n",
        "                        Sender IBAN:      3   F  Item Q:        9   T\n",
        "                        Invoice Reference:4   F  Item Total:    10  T\n",
        "                        Total:            5   F\n",
        "                        Conditions:       6   F\n",
        "\n",
        "'''\n",
        "N_CLASSES = 11"
      ],
      "execution_count": 0,
      "outputs": []
    },
    {
      "metadata": {
        "id": "sWlpCPhqBy8v",
        "colab_type": "code",
        "colab": {
          "autoexec": {
            "startup": false,
            "wait_interval": 0
          }
        }
      },
      "cell_type": "code",
      "source": [
        "# Data generator -Creates invoices-\n",
        "import numpy as np\n",
        "from sklearn.utils import resample\n",
        "from datetime import datetime\n",
        "import random\n",
        "import string\n",
        "\n",
        "# If complexity is true, we predict the item descriptions, quantities, totals and the date of the invoice. See list of targets above.\n",
        "def create_invoice(content, complexity, prediction):\n",
        "    \n",
        "    items = ['Water','Tea','Coffee',\n",
        "         'Amazon Echo',' Instant Pot 7-in-1 Multi-Functional Pressure Cooker',\n",
        "         'TechMatte MagGrip Air Vent Magnetic Universal Car Mount','SanDisk 32GB Ultra Class Memory Card',\n",
        "        'Sony XB950B1 Extra Bass Wireless Headphones','iRobot Roomba 652 Robotic Vacuum Cleaner',\n",
        "        'Anker Bluetooth SoundBuds Headphones','Kindle Paperwhite','Fire TV Stick with Alexa Voice Remote',\n",
        "         'Oral-B Pro 7000 SmartSeries Electric Toothbrush',\n",
        "         'TaoTronics Dimmable LED Desk Lamp with USB Charging Port','23andMe DNA Test','NVIDIA Tesla K80 GPU',\n",
        "         'NVIDIA TITAN V VOLTA 12GB HBM2 VIDEO CARD','Equinox Down Alternative Comforter',\n",
        "         'Anker Super Bright Tactical Flashlight, Rechargeable', 'Cucisina Lemon Squeezer',\n",
        "         'Fengbao 2PCS Kitchen Sink Strainer - Stainless Steel','ZIONOR Lagopus Ski Snowboard Goggles',\n",
        "         'BIC Marking Permanent Marker, Metallic','2-in-1 Pet Glove: Grooming Tool + Furniture Pet Hair Remover',\n",
        "         'Criacr Bluetooth FM Transmitter, Wireless In-Car FM Transmitter','Get Out [Blu-ray]',\n",
        "         'Car Charger for Nintendo Switch','JETech 2-Pack iPhone 8/7 Screen Protector']\n",
        "         \n",
        "    companies = []\n",
        "\n",
        "    co = {'NAME':'Ortec Finance Big Data Analytics B.V.',\n",
        "          'STREET':'Boompjes 40',\n",
        "          'POST':'3011XB',\n",
        "          'CITY':'Rotterdam',\n",
        "          'KVKNR':'70498032',\n",
        "          'VATNR':'000038761017', \n",
        "          'BANK':'RABOBANK', \n",
        "          'BIC':'RABONL2U',\n",
        "          'IBAN':'NL97RABO0167773583', \n",
        "          'PHONE':'06-98486335',\n",
        "          'EMAIL':'info@ofdataanalytics.com',\n",
        "          'WEB':'http://ofdataanalytics.com/'}\n",
        "\n",
        "    companies.append(co)\n",
        "\n",
        "    co = {'NAME':'ORTEC Finance B.V.',\n",
        "          'STREET':'Boompjes 40',\n",
        "          'POST':'3011XB',\n",
        "          'CITY':'Rotterdam',\n",
        "          'KVKNR':'24421148',\n",
        "          'VATNR':'000019986750',\n",
        "          'BANK':'RABOBANK', \n",
        "          'BIC':'RABONL2U',\n",
        "          'IBAN':'NL35RABO0386025669',\n",
        "          'PHONE':'06-90366060',\n",
        "          'EMAIL':'info@ortec-finance.com',\n",
        "          'WEB':'http://www.ortec-finance.com/nl-nl'}\n",
        "\n",
        "    companies.append(co)\n",
        "\n",
        "    co = {'NAME':'ING Bank N.V.',\n",
        "          'STREET':'Bijlmerplein 888',\n",
        "          'POST':'1102MG',\n",
        "          'CITY':'Amsterdam',\n",
        "          'KVKNR':'33031431',\n",
        "          'VATNR':'000019531656',\n",
        "          'BANK':'ING NETHERLANDS', \n",
        "          'BIC':'INGBNL2A',\n",
        "          'IBAN':'NL12INGB0758162765',\n",
        "          'PHONE':'06-90366060',\n",
        "          'EMAIL':'info@ing.nl',\n",
        "          'WEB':'https://www.ing.nl'}\n",
        "\n",
        "    companies.append(co)\n",
        "\n",
        "    co = {'NAME':'Amazon NL International Holdings B.V.',\n",
        "          'STREET':'Johanna Westerdijkplein 1',\n",
        "          'POST':'2521EN',\n",
        "          'CITY':'s-Gravenhage',\n",
        "          'KVKNR':'69988978',\n",
        "          'VATNR':'000038299550',\n",
        "          'BANK':'RABOBANK', \n",
        "          'BIC':'RABONL2U',\n",
        "          'IBAN':'NL41RABO0150437878',\n",
        "          'PHONE':'06-35829070',\n",
        "          'EMAIL':'info@amazon.com',\n",
        "          'WEB':'https://www.amazon.com'}\n",
        "\n",
        "    companies.append(co)\n",
        "\n",
        "    co = {'NAME':'Unilever Nederland',\n",
        "          'STREET':'Nassaukade 5',\n",
        "          'POST':'3071JL',\n",
        "          'CITY':'Rotterdam',\n",
        "          'KVKNR':'24269393',\n",
        "          'VATNR':'000019267231',\n",
        "          'BANK':'ING NETHERLANDS', \n",
        "          'BIC':'INGBNL2A',\n",
        "          'IBAN':'NL02INGB0681309748',\n",
        "          'PHONE':'06-88163931',\n",
        "          'EMAIL':'info@unilever.com',\n",
        "          'WEB':'https://www.unilever.com'}\n",
        "\n",
        "\n",
        "    companies.append(co)\n",
        "    \n",
        "    conditions = ['Payable within 30 days','Delivery after payment','']\n",
        "    \n",
        "    bill_items = resample(items,n_samples=4,replace=False)\n",
        "    prices = np.random.rand(4)*1000\n",
        "    quants = np.random.randint(1,10,size=4)\n",
        "    totals = prices * quants\n",
        "    vat_s = totals * 0.12 # 12% vat on everything\n",
        "    total_vat = np.sum(vat_s)\n",
        "    total_wo_vat = np.sum(totals)\n",
        "    total = total_vat + total_wo_vat\n",
        "    \n",
        "    \n",
        "    for i in range(4):\n",
        "        item_name = bill_items[i]\n",
        "        item_quant = quants[i]\n",
        "        item_price = prices[i]\n",
        "        item_vat = vat_s[i]\n",
        "        item_total = totals[i]\n",
        "        content = content.replace('<ITEM_{}_NAME>'.format(i+1),item_name)\n",
        "        content = content.replace('<ITEM_{}_QUANT>'.format(i+1),\"{0:.2f}\".format(item_quant))\n",
        "        content = content.replace('<ITEM_{}_PRICE>'.format(i+1),\"{0:.2f}\".format(item_price))\n",
        "        content = content.replace('<ITEM_{}_VAT>'.format(i+1),\"{0:.2f}\".format(item_vat))\n",
        "        content = content.replace('<ITEM_{}_TOTAL>'.format(i+1),\"{0:.2f}\".format(item_total))\n",
        "    content = content.replace('<TOTAL_WO_VAT>',\"{0:.2f}\".format(total_wo_vat))\n",
        "    content = content.replace('<TOTAL_VAT>',\"{0:.2f}\".format(total_vat))\n",
        "    content = content.replace('<TOTAL>',\"{0:.2f}\".format(total))\n",
        "    sender, reciever = resample(companies, n_samples=2,replace=False)\n",
        "    \n",
        "    content = content.replace('<SENDER_NAME>',sender['NAME'])\n",
        "    content = content.replace('<SENDER_STREET>',sender['STREET'])\n",
        "    content = content.replace('<SENDER_POST>',sender['POST'])\n",
        "    content = content.replace('<SENDER_CITY>',sender['POST'])\n",
        "    content = content.replace('<KVKNR>',sender['KVKNR'])\n",
        "    content = content.replace('<VATNR>',sender['VATNR'])\n",
        "    content = content.replace('<BANK_NAME>',sender['BANK'])\n",
        "    content = content.replace('<IBAN>',sender['IBAN'])\n",
        "    content = content.replace('<BIC_CODE>',sender['BIC'])\n",
        "    content = content.replace('<PHONE>',sender['PHONE'])\n",
        "    content = content.replace('<EMAIL>',sender['EMAIL'])\n",
        "    content = content.replace('<WEBSITE>',sender['WEB'])\n",
        "    content = content.replace('<RECIPIENT_NAME>',reciever['NAME'])\n",
        "    content = content.replace('<RECIPIENT_STREET>',reciever['STREET'])\n",
        "    content = content.replace('<RECIPIENT_POST>',reciever['POST'])\n",
        "    content = content.replace('<RECIPIENT_CITY>',reciever['CITY'])\n",
        "    \n",
        "    year = random.randint(2008, 2017)\n",
        "    month = random.randint(1, 12)\n",
        "    day = random.randint(1, 28)\n",
        "\n",
        "    date = '{}/{}/{}'.format(day,month,year)\n",
        "\n",
        "    content = content.replace('<INVOICE_DATE>',date)    \n",
        "    \n",
        "    if month < 12: \n",
        "        month += 1\n",
        "    else:\n",
        "        month = 1\n",
        "\n",
        "    due = '{}/{}/{}'.format(day,month,year)\n",
        "\n",
        "    content = content.replace('<DUE_DATE>',due)\n",
        "    \n",
        "    reference = ''.join(random.choice(string.ascii_uppercase + string.digits) for _ in range(5))\n",
        "    invoice_no = ''.join(random.choice(string.ascii_uppercase + string.digits) for _ in range(10))\n",
        "\n",
        "    content = content.replace('<CUSTOMER_REFERENCE>',reference)\n",
        "    content = content.replace('<INVOICE_NR>',invoice_no)\n",
        "    \n",
        "    condition = resample(conditions, n_samples = 1)[0]\n",
        "    content = content.replace('<CONDITIONS>',condition)\n",
        "    \n",
        "    \n",
        "\n",
        "    target = [0]* len(content)\n",
        "    \n",
        "    if complexity == True or prediction == True:\n",
        "      \n",
        "      date_start = content.find(date)\n",
        "      date_len = len(date)\n",
        "      date_end = date_start + date_len\n",
        "      if date_start != -1:\n",
        "        target[date_start:date_end] = [7]*date_len \n",
        " \n",
        "      for i in range(4):\n",
        "        item_name = bill_items[i]\n",
        "        item_quant = quants[i]\n",
        "        item_price = prices[i]\n",
        "        item_vat = vat_s[i]\n",
        "\n",
        "        item_start = content.find(item_name)\n",
        "        item_len = len(item_name)\n",
        "        item_stop = item_start + item_len\n",
        "        if item_start != -1:\n",
        "            target[item_start:item_stop] = [8]*item_len\n",
        "\n",
        "        item_q_start = content.find(\"{0:.2f}\".format(item_quant)) \n",
        "        item_q_len = len(\"{0:.2f}\".format(item_quant))\n",
        "        item_q_stop = item_q_start + item_q_len\n",
        "        if item_q_start != -1:\n",
        "            target[item_q_start:item_q_stop] = [9]*item_q_len\n",
        "\n",
        "        itemt_start = content.find(\"{0:.2f}\".format(item_total))\n",
        "        itemt_len = len(\"{0:.2f}\".format(item_total))\n",
        "        itemt_stop = itemt_start + itemt_len\n",
        "        if itemt_start != -1:\n",
        "            target[itemt_start:itemt_stop] = [10]*itemt_len    \n",
        "\n",
        "    \n",
        "    if complexity == False or prediction == True:\n",
        "      co_start = content.find(condition)\n",
        "      co_len = len(condition)\n",
        "      co_end = co_start + co_len\n",
        "      if co_start != -1:\n",
        "        target[co_start:co_end] = [6]*co_len\n",
        "\n",
        "      sn_start = content.find(sender['NAME'])\n",
        "      sn_len = len(sender['NAME'])\n",
        "      sn_end = sn_start + sn_len\n",
        "      if sn_start != -1:\n",
        "          target[sn_start:sn_end] = [1]*sn_len\n",
        "\n",
        "      skvk_start = content.find(sender['KVKNR'])\n",
        "      skvk_len = len(sender['KVKNR'])\n",
        "      skvk_end = skvk_start + skvk_len\n",
        "      if skvk_start != -1:\n",
        "          target[skvk_start:skvk_end] = [2]*skvk_len\n",
        "\n",
        "      siban_start = content.find(sender['IBAN'])\n",
        "      siban_len = len(sender['IBAN'])\n",
        "      siban_end = siban_start + siban_len\n",
        "      if siban_start != -1:\n",
        "          target[siban_start:siban_end] = [3]*siban_len\n",
        "\n",
        "      ref_start = content.find(reference)\n",
        "      ref_len = len(reference)\n",
        "      ref_end = ref_start + ref_len\n",
        "      if ref_start != -1:\n",
        "          target[ref_start:ref_end] = [4]*ref_len\n",
        "\n",
        "      total_start = content.find(\"{0:.2f}\".format(total))\n",
        "      total_len = len(\"{0:.2f}\".format(total))\n",
        "      total_end = total_start + total_len\n",
        "      if total_start != -1:\n",
        "          target[total_start:total_end] = [5]*total_len\n",
        "    \n",
        "    assert (len(content) == len(target))\n",
        "    return content, target\n",
        "         \n",
        "\n"
      ],
      "execution_count": 0,
      "outputs": []
    },
    {
      "metadata": {
        "id": "IQ8iXhhzB1ce",
        "colab_type": "code",
        "colab": {
          "autoexec": {
            "startup": false,
            "wait_interval": 0
          }
        }
      },
      "cell_type": "code",
      "source": [
        "# Your friendly tokenizer\n",
        "from keras.preprocessing.text import Tokenizer\n",
        "\n",
        "# Numpy\n",
        "import numpy as np\n",
        "\n",
        "import pandas as pd"
      ],
      "execution_count": 0,
      "outputs": []
    },
    {
      "metadata": {
        "id": "eSoP2DdIB4lq",
        "colab_type": "code",
        "colab": {
          "autoexec": {
            "startup": false,
            "wait_interval": 0
          }
        }
      },
      "cell_type": "code",
      "source": [
        "# Create 100 invoices for each template\n",
        "\n",
        "invoices_simple = []\n",
        "targets_simple = []\n",
        "invoices_complex = []\n",
        "targets_complex = []\n",
        "\n",
        "# Load template 1\n",
        "with open('templates/TEMPLATE_1.txt', 'r') as content_file:\n",
        "    content = content_file.read()\n",
        "\n",
        "# Create invoices from template\n",
        "for i in range(500):\n",
        "    inv_s, tar_s = create_invoice(content, complexity=False, prediction=False)\n",
        "    invoices_simple.append(inv_s)\n",
        "    targets_simple.append(tar_s)\n",
        "    inv_c, tar_c = create_invoice(content, complexity=True, prediction=False)\n",
        "    invoices_complex.append(inv_c)\n",
        "    targets_complex.append(tar_c)\n",
        "    \n",
        "# Load template 2\n",
        "with open('templates/TEMPLATE_2.txt', 'r') as content_file:\n",
        "    content = content_file.read()\n",
        "    \n",
        "# Create invoices from template\n",
        "for i in range(500):\n",
        "    inv_s, tar_s = create_invoice(content, complexity=False, prediction=False)\n",
        "    invoices_simple.append(inv_s)\n",
        "    targets_simple.append(tar_s)\n",
        "    inv_c, tar_c = create_invoice(content, complexity=True, prediction=False)\n",
        "    invoices_complex.append(inv_c)\n",
        "    targets_complex.append(tar_c)"
      ],
      "execution_count": 0,
      "outputs": []
    },
    {
      "metadata": {
        "id": "7p5hmKzYB7CD",
        "colab_type": "code",
        "colab": {
          "autoexec": {
            "startup": false,
            "wait_interval": 0
          }
        }
      },
      "cell_type": "code",
      "source": [
        "# Counts the amount of generated invoices that have a certain target.\n",
        "\n",
        "para_c = 4  # Amount of complex parameters\n",
        "para_s = N_CLASSES-para_c\n",
        "\n",
        "def counter(targets, N_CLASSES, complexity):\n",
        "  count = np.zeros(N_CLASSES)\n",
        "  for i in range(len(targets)):\n",
        "    if complexity==True:\n",
        "      for j in [7,8,9,10]: # Complex targets without 'Ignore'\n",
        "        if j in targets[i]:\n",
        "          count[j-7] += 1  # First complex target to get index back to 0.\n",
        "    else:     \n",
        "      for j in range(N_CLASSES):\n",
        "        if j in targets[i]:\n",
        "          count[j] += 1\n",
        "  return count"
      ],
      "execution_count": 0,
      "outputs": []
    },
    {
      "metadata": {
        "id": "T-RGd4AYzjfF",
        "colab_type": "code",
        "colab": {
          "autoexec": {
            "startup": false,
            "wait_interval": 0
          },
          "output_extras": [
            {
              "item_id": 1
            }
          ],
          "base_uri": "https://localhost:8080/",
          "height": 33
        },
        "outputId": "38df43ea-76a1-4d82-9867-9cbab3bc14a3",
        "executionInfo": {
          "status": "ok",
          "timestamp": 1521492280359,
          "user_tz": -60,
          "elapsed": 754,
          "user": {
            "displayName": "Arno Claes",
            "photoUrl": "https://lh3.googleusercontent.com/a/default-user=s128",
            "userId": "114929370230511213993"
          }
        }
      },
      "cell_type": "code",
      "source": [
        "'''\n",
        "Ignore:           0   \n",
        "Sender Name:      1   F\n",
        "Sender KVK:       2   F\n",
        "Sender IBAN:      3   F\n",
        "Invoice Reference:4   F\n",
        "Total:            5   F\n",
        "Conditions:       6   F\n",
        "Date:             7   T\n",
        "Item:             8   T\n",
        "Item Total:       9   T\n",
        "Item Q:          10   T\n",
        "'''\n",
        "# Get the total count\n",
        "total_count = np.hstack((counter(targets_simple, para_s, complexity=False),(counter(targets_complex, para_c,complexity=True))))\n",
        "# Remove the ignore - since every model has them, and the complex do not count them per definition -.\n",
        "total_count = np.delete(total_count,0)\n",
        "\n",
        "print(total_count)\n",
        "\n",
        "\n",
        "#It is already clear from this counter that there is an oddity in the prediction. There are less item quantities predicted than there are invoices with items.\n",
        "#This is an indication of the lack of information provided/accessible to the model, when merely using 28 items.\n"
      ],
      "execution_count": 68,
      "outputs": [
        {
          "output_type": "stream",
          "text": [
            "[ 500.  500.  500. 1000. 1000.  335. 1000. 1000.  515. 1000.]\n"
          ],
          "name": "stdout"
        }
      ]
    },
    {
      "metadata": {
        "id": "Rx_9O0gkCBs6",
        "colab_type": "code",
        "colab": {
          "autoexec": {
            "startup": false,
            "wait_interval": 0
          }
        }
      },
      "cell_type": "code",
      "source": [
        "# Create our tokenizer\n",
        "# We will tokenize on character level!\n",
        "# We will NOT remove any characters\n",
        "tokenizer = Tokenizer(char_level=True, filters=None)\n",
        "tokenizer.fit_on_texts(invoices_simple)\n",
        "tokenizer.fit_on_texts(invoices_complex)"
      ],
      "execution_count": 0,
      "outputs": []
    },
    {
      "metadata": {
        "id": "yypjiI6gCFAI",
        "colab_type": "code",
        "colab": {
          "autoexec": {
            "startup": false,
            "wait_interval": 0
          }
        }
      },
      "cell_type": "code",
      "source": [
        "def gen_sub(inv,tar,pad, m = None):\n",
        "    '''\n",
        "    Generates a substring from invoice inv and target list tar \n",
        "    using the character at index m as a midpoint.\n",
        "    \n",
        "    Params:\n",
        "    inv - an invoice string\n",
        "    tar - a target list specifying the type of each item\n",
        "    pad - the amount of padding to attach before and after the focus character\n",
        "    \n",
        "    Returns:\n",
        "    sub - a string with pad characters, the focus character, pad characters\n",
        "    '''\n",
        "    # If no focus character index is set, choose at random\n",
        "    if m == None:\n",
        "        m = np.random.randint(0,len(inv))\n",
        "        \n",
        "    l = m - pad # define the lower bound of our substring\n",
        "    h = m + pad + 1 # define the upper (high) of our substring\n",
        "\n",
        "    # Sometimes, our lower bound could be below zero\n",
        "    # In this case we attach the remaining characters from the back of the string\n",
        "    if l < 0:\n",
        "        # Get the characters from the back of the file\n",
        "        s1 = inv[l:None]\n",
        "        \n",
        "        # Edge case: Sample size larger than string\n",
        "        # Our upper bound might be higher than the lenth of the text\n",
        "        # In that case we start from the front again\n",
        "        if h >= len(inv): \n",
        "            # How many characters do we need from the front\n",
        "            overlap = h - len(inv)\n",
        "            # The string is the entire invoice + some chars from the front\n",
        "            s2 = inv\n",
        "            s_over = inv[None:overlap]\n",
        "            s2 = s2 + s_over\n",
        "        else:\n",
        "            # If we don't need chars from the front \n",
        "            # we can just select to the upper bound\n",
        "            s2 = inv[None:h]\n",
        "            \n",
        "        # Create substring\n",
        "        sub = s1 + s2\n",
        "        # Ensure the substring has the right length\n",
        "        assert(len(sub) == pad*2 +1)\n",
        "        return sub, tar[m]\n",
        "    \n",
        "    # Our lower bound might be positive but our upper bound might \n",
        "    # still be above the length of the invoice\n",
        "    elif h >= len(inv):\n",
        "        # Calc how many chars we need from the front\n",
        "        overlap = h - len(inv)\n",
        "        \n",
        "        # Get string from lower bound to end\n",
        "        s1 = inv[l:None]\n",
        "        # Get string from the front of the doc\n",
        "        s2 = inv[None:overlap]\n",
        "        sub = s1 + s2\n",
        "        # Make sure our string has the correct length\n",
        "        assert(len(sub) == pad*2 +1)\n",
        "        return sub, tar[m]\n",
        "    \n",
        "    # Upper and lower bound lie within the length of the invoice\n",
        "    else: \n",
        "        sub = inv[l:h]\n",
        "        assert(len(sub) == pad*2 +1)\n",
        "        return sub, tar[m]"
      ],
      "execution_count": 0,
      "outputs": []
    },
    {
      "metadata": {
        "id": "LDV2PhRECILq",
        "colab_type": "code",
        "colab": {
          "autoexec": {
            "startup": false,
            "wait_interval": 0
          }
        }
      },
      "cell_type": "code",
      "source": [
        "def gen_dataset(sample_size, n_classes, invoices, targets, tokenizer, complexity):\n",
        "    '''\n",
        "    Generate a dataset of inputs and outputs for our neural network\n",
        "    \n",
        "    Params:\n",
        "    sample_size - desired sample size\n",
        "    n_classes - number of classes\n",
        "    invoices - list of invoices to sample from\n",
        "    targets - list of corresonding targets to sample from\n",
        "    tokenizer - a keras tokenizer fit on the invoices\n",
        "    \n",
        "    The function creates balanced samples by randomly sampling untill \n",
        "    an equal amount of samples of all types is created.\n",
        "    \n",
        "    Characters are one hot encoded\n",
        "    \n",
        "    Returns:\n",
        "    x_arr: a numpy array of shape (sample_size, sequence length, number of unique characters)\n",
        "    y_arr: a numpy array of shape (sample_size,)\n",
        "    '''\n",
        "    \n",
        "    # Create a budget\n",
        "    budget = [sample_size / n_classes] * n_classes\n",
        "    \n",
        "    # Setup holding variables\n",
        "    X_train = []\n",
        "    y_train = []\n",
        "\n",
        "    # While there is still a budget left...\n",
        "    while sum(budget) > 0:\n",
        "        # ... get a random invoice and target list\n",
        "        index = np.random.randint(0,len(invoices))\n",
        "        inv = invoices[index]\n",
        "        tar = targets[index]\n",
        "        # ... sample up to 10 items from this invoice \n",
        "        for j in range(10):\n",
        "            # Get an item\n",
        "            x, y = gen_sub(inv,tar,PADDING)\n",
        "            if complexity == True:\n",
        "              if y != 0:\n",
        "                y = y-7\n",
        "            # if we still have a budget for this items target\n",
        "            if budget[y] > 0:\n",
        "                # Tokenize to one hot\n",
        "                xm = tokenizer.texts_to_matrix(x)\n",
        "                # Add data and target\n",
        "                X_train.append(xm)\n",
        "                y_train.append(y)\n",
        "                budget[y] -= 1\n",
        "      \n",
        "    # Create numpy arrays from all data and targets\n",
        "    x_arr = np.array(X_train)\n",
        "    y_arr = np.array(y_train)\n",
        "    return x_arr,y_arr"
      ],
      "execution_count": 0,
      "outputs": []
    },
    {
      "metadata": {
        "id": "BQvq-dG5CKnR",
        "colab_type": "code",
        "colab": {
          "autoexec": {
            "startup": false,
            "wait_interval": 0
          }
        }
      },
      "cell_type": "code",
      "source": [
        "# Ger data\n",
        "def generate_sets(N_CLASSES, invoices, targets, tokenizer, complexity):\n",
        "  train_size = 24000\n",
        "  val_size = 240\n",
        "\n",
        "  x_tr, y_tr = gen_dataset(train_size, N_CLASSES, invoices, targets, tokenizer, complexity)\n",
        "  x_val, y_val = gen_dataset(val_size, N_CLASSES, invoices, targets, tokenizer, complexity)\n",
        "  return x_tr, y_tr, x_val, y_val"
      ],
      "execution_count": 0,
      "outputs": []
    },
    {
      "metadata": {
        "id": "LrPrfewc4Smy",
        "colab_type": "code",
        "colab": {
          "autoexec": {
            "startup": false,
            "wait_interval": 0
          }
        }
      },
      "cell_type": "code",
      "source": [
        "# Create training and validation data for both the complex and simple model.\n",
        "x_tr_s, y_tr_s, x_val_s, y_val_s = generate_sets(para_s, invoices_simple, targets_simple, tokenizer, complexity = False)\n",
        "x_tr_c, y_tr_c, x_val_c, y_val_c = generate_sets(para_c, invoices_complex, targets_complex, tokenizer, complexity = True)"
      ],
      "execution_count": 0,
      "outputs": []
    },
    {
      "metadata": {
        "id": "Urwyr-vuCOaR",
        "colab_type": "code",
        "colab": {
          "autoexec": {
            "startup": false,
            "wait_interval": 0
          }
        }
      },
      "cell_type": "code",
      "source": [
        "from keras.models import Sequential\n",
        "from keras.layers import SimpleRNN, Dense,Activation, Conv1D, MaxPool1D"
      ],
      "execution_count": 0,
      "outputs": []
    },
    {
      "metadata": {
        "id": "ou29Zm2sCSRv",
        "colab_type": "code",
        "colab": {
          "autoexec": {
            "startup": false,
            "wait_interval": 0
          }
        }
      },
      "cell_type": "code",
      "source": [
        "def make_model(INPUTSHAPE, PADDING, N_CLASSES):  # A simple model\n",
        "  model = Sequential()\n",
        "  model.add(Conv1D(2*PADDING,2,input_shape=INPUTSHAPE)) # The input shape assumes there is 85 possible characters\n",
        "  model.add(MaxPool1D(2))\n",
        "  model.add(SimpleRNN(4*N_CLASSES))\n",
        "  model.add(Dense(N_CLASSES))\n",
        "  model.add(Activation('softmax'))\n",
        "  \n",
        "  return model"
      ],
      "execution_count": 0,
      "outputs": []
    },
    {
      "metadata": {
        "id": "MfpkFTOBguFv",
        "colab_type": "code",
        "colab": {
          "autoexec": {
            "startup": false,
            "wait_interval": 0
          }
        }
      },
      "cell_type": "code",
      "source": [
        "model_simple = make_model(INPUTSHAPE=x_tr_s.shape[1:3], PADDING=PADDING, N_CLASSES = para_s)\n",
        "model_complex = make_model(INPUTSHAPE=x_tr_c.shape[1:3], PADDING=PADDING,N_CLASSES = para_c+1)"
      ],
      "execution_count": 0,
      "outputs": []
    },
    {
      "metadata": {
        "id": "enzOxYAUCSWK",
        "colab_type": "code",
        "colab": {
          "autoexec": {
            "startup": false,
            "wait_interval": 0
          }
        }
      },
      "cell_type": "code",
      "source": [
        "# sparse_categorical_crossentropy is like categorical crossentropy but without converting targets to one hot\n",
        "model_simple.compile(loss='sparse_categorical_crossentropy',optimizer='adam', metrics=['acc'])\n",
        "model_complex.compile(loss='sparse_categorical_crossentropy',optimizer='adam', metrics=['acc'])"
      ],
      "execution_count": 0,
      "outputs": []
    },
    {
      "metadata": {
        "id": "QA-QGAD3CSZ5",
        "colab_type": "code",
        "colab": {
          "autoexec": {
            "startup": false,
            "wait_interval": 0
          },
          "output_extras": [
            {
              "item_id": 79
            },
            {
              "item_id": 80
            }
          ],
          "base_uri": "https://localhost:8080/",
          "height": 117
        },
        "outputId": "8ad9afb6-b00a-4428-dcc8-59e3ecaff266",
        "executionInfo": {
          "status": "ok",
          "timestamp": 1521492342436,
          "user_tz": -60,
          "elapsed": 25866,
          "user": {
            "displayName": "Arno Claes",
            "photoUrl": "https://lh3.googleusercontent.com/a/default-user=s128",
            "userId": "114929370230511213993"
          }
        }
      },
      "cell_type": "code",
      "source": [
        "model_simple.fit(x_tr_s,y_tr_s,batch_size=32,epochs=2,validation_data=(x_val_s,y_val_s))"
      ],
      "execution_count": 78,
      "outputs": [
        {
          "output_type": "stream",
          "text": [
            "Train on 23996 samples, validate on 238 samples\n",
            "Epoch 1/2\n",
            "23996/23996 [==============================] - 12s 517us/step - loss: 0.3037 - acc: 0.9337 - val_loss: 0.0840 - val_acc: 0.9706\n",
            "Epoch 2/2\n",
            "23996/23996 [==============================] - 13s 524us/step - loss: 0.0365 - acc: 0.9929 - val_loss: 0.0709 - val_acc: 0.9832\n"
          ],
          "name": "stdout"
        },
        {
          "output_type": "execute_result",
          "data": {
            "text/plain": [
              "<keras.callbacks.History at 0x7f44cbe84590>"
            ]
          },
          "metadata": {
            "tags": []
          },
          "execution_count": 78
        }
      ]
    },
    {
      "metadata": {
        "id": "e5aAfoPBolpG",
        "colab_type": "code",
        "colab": {
          "autoexec": {
            "startup": false,
            "wait_interval": 0
          },
          "output_extras": [
            {
              "item_id": 38
            },
            {
              "item_id": 39
            }
          ],
          "base_uri": "https://localhost:8080/",
          "height": 84
        },
        "outputId": "87bf30a7-2ec7-4fa8-c453-c8692c1ea5d3",
        "executionInfo": {
          "status": "ok",
          "timestamp": 1521492356388,
          "user_tz": -60,
          "elapsed": 13714,
          "user": {
            "displayName": "Arno Claes",
            "photoUrl": "https://lh3.googleusercontent.com/a/default-user=s128",
            "userId": "114929370230511213993"
          }
        }
      },
      "cell_type": "code",
      "source": [
        "# 1 epoch proved the most accurate\n",
        "model_complex.fit(x_tr_c,y_tr_c,batch_size=32,epochs=1,validation_data=(x_val_c,y_val_c))"
      ],
      "execution_count": 79,
      "outputs": [
        {
          "output_type": "stream",
          "text": [
            "Train on 24000 samples, validate on 240 samples\n",
            "Epoch 1/1\n",
            "24000/24000 [==============================] - 13s 530us/step - loss: 0.3654 - acc: 0.8855 - val_loss: 0.1062 - val_acc: 0.9708\n"
          ],
          "name": "stdout"
        },
        {
          "output_type": "execute_result",
          "data": {
            "text/plain": [
              "<keras.callbacks.History at 0x7f44ce01ca90>"
            ]
          },
          "metadata": {
            "tags": []
          },
          "execution_count": 79
        }
      ]
    },
    {
      "metadata": {
        "id": "JXbzRwbWCSdo",
        "colab_type": "code",
        "colab": {
          "autoexec": {
            "startup": false,
            "wait_interval": 0
          }
        }
      },
      "cell_type": "code",
      "source": [
        "'''\n",
        "To make predictions from our model, we need to create \n",
        "sequences around every character from the invoice.\n",
        "\n",
        "We the making predictions for every charater based on their invoice\n",
        "'''\n",
        "\n",
        "# Make a new invoice:\n",
        "template = np.random.randint(0,1)\n",
        "if template == 0:\n",
        "  with open('templates/TEMPLATE_1.txt', 'r') as content_file:\n",
        "    content = content_file.read()\n",
        "else:\n",
        "  with open('templates/TEMPLATE_1.txt', 'r') as content_file:\n",
        "    content = content_file.read()\n",
        "\n",
        "# Complexity does not matter, since prediction arg overrules it.\n",
        "inv,tar = create_invoice(content, complexity=False, prediction=True)\n",
        "\n",
        "\n",
        "chars = [] # Holds the individual characters\n",
        "data = [] # Holds the sequences around the characters\n",
        "y_true = [] # Holds the true targets for each character\n",
        "\n",
        "# Loop over characters indices\n",
        "for i in range(len(inv) -1):\n",
        "    # Create sequence around this character\n",
        "    x,y = gen_sub(inv,tar,PADDING,m=i)\n",
        "    # Tokenize the sequence to one hot\n",
        "    xm = tokenizer.texts_to_matrix(x)\n",
        "    # Get the character itself\n",
        "    c = inv[i]\n",
        "    \n",
        "    chars.append(c)\n",
        "    data.append(xm)\n",
        "    y_true.append(y)"
      ],
      "execution_count": 0,
      "outputs": []
    },
    {
      "metadata": {
        "id": "ryTEnuYtCa4v",
        "colab_type": "code",
        "colab": {
          "autoexec": {
            "startup": false,
            "wait_interval": 0
          }
        }
      },
      "cell_type": "code",
      "source": [
        "import pandas as pd"
      ],
      "execution_count": 0,
      "outputs": []
    },
    {
      "metadata": {
        "id": "yJpSlz0nCa7m",
        "colab_type": "code",
        "colab": {
          "autoexec": {
            "startup": false,
            "wait_interval": 0
          }
        }
      },
      "cell_type": "code",
      "source": [
        "# For demo purposes we can look what our invoice looks like\n",
        "df = pd.DataFrame({'Char':chars,'Target':y_true})"
      ],
      "execution_count": 0,
      "outputs": []
    },
    {
      "metadata": {
        "id": "ue61yD64Ca-W",
        "colab_type": "code",
        "colab": {
          "autoexec": {
            "startup": false,
            "wait_interval": 0
          },
          "output_extras": [
            {
              "item_id": 1
            }
          ],
          "base_uri": "https://localhost:8080/",
          "height": 565
        },
        "outputId": "3563637d-39c2-451a-b977-eb326e7f459f",
        "executionInfo": {
          "status": "ok",
          "timestamp": 1521493595654,
          "user_tz": -60,
          "elapsed": 518,
          "user": {
            "displayName": "Arno Claes",
            "photoUrl": "https://lh3.googleusercontent.com/a/default-user=s128",
            "userId": "114929370230511213993"
          }
        }
      },
      "cell_type": "code",
      "source": [
        "# Show all characters belonging to the amount\n",
        "df[df.Target == 3]"
      ],
      "execution_count": 141,
      "outputs": [
        {
          "output_type": "execute_result",
          "data": {
            "text/html": [
              "<div>\n",
              "<style scoped>\n",
              "    .dataframe tbody tr th:only-of-type {\n",
              "        vertical-align: middle;\n",
              "    }\n",
              "\n",
              "    .dataframe tbody tr th {\n",
              "        vertical-align: top;\n",
              "    }\n",
              "\n",
              "    .dataframe thead th {\n",
              "        text-align: right;\n",
              "    }\n",
              "</style>\n",
              "<table border=\"1\" class=\"dataframe\">\n",
              "  <thead>\n",
              "    <tr style=\"text-align: right;\">\n",
              "      <th></th>\n",
              "      <th>Char</th>\n",
              "      <th>Target</th>\n",
              "    </tr>\n",
              "  </thead>\n",
              "  <tbody>\n",
              "    <tr>\n",
              "      <th>241</th>\n",
              "      <td>N</td>\n",
              "      <td>3</td>\n",
              "    </tr>\n",
              "    <tr>\n",
              "      <th>242</th>\n",
              "      <td>L</td>\n",
              "      <td>3</td>\n",
              "    </tr>\n",
              "    <tr>\n",
              "      <th>243</th>\n",
              "      <td>4</td>\n",
              "      <td>3</td>\n",
              "    </tr>\n",
              "    <tr>\n",
              "      <th>244</th>\n",
              "      <td>1</td>\n",
              "      <td>3</td>\n",
              "    </tr>\n",
              "    <tr>\n",
              "      <th>245</th>\n",
              "      <td>R</td>\n",
              "      <td>3</td>\n",
              "    </tr>\n",
              "    <tr>\n",
              "      <th>246</th>\n",
              "      <td>A</td>\n",
              "      <td>3</td>\n",
              "    </tr>\n",
              "    <tr>\n",
              "      <th>247</th>\n",
              "      <td>B</td>\n",
              "      <td>3</td>\n",
              "    </tr>\n",
              "    <tr>\n",
              "      <th>248</th>\n",
              "      <td>O</td>\n",
              "      <td>3</td>\n",
              "    </tr>\n",
              "    <tr>\n",
              "      <th>249</th>\n",
              "      <td>0</td>\n",
              "      <td>3</td>\n",
              "    </tr>\n",
              "    <tr>\n",
              "      <th>250</th>\n",
              "      <td>1</td>\n",
              "      <td>3</td>\n",
              "    </tr>\n",
              "    <tr>\n",
              "      <th>251</th>\n",
              "      <td>5</td>\n",
              "      <td>3</td>\n",
              "    </tr>\n",
              "    <tr>\n",
              "      <th>252</th>\n",
              "      <td>0</td>\n",
              "      <td>3</td>\n",
              "    </tr>\n",
              "    <tr>\n",
              "      <th>253</th>\n",
              "      <td>4</td>\n",
              "      <td>3</td>\n",
              "    </tr>\n",
              "    <tr>\n",
              "      <th>254</th>\n",
              "      <td>3</td>\n",
              "      <td>3</td>\n",
              "    </tr>\n",
              "    <tr>\n",
              "      <th>255</th>\n",
              "      <td>7</td>\n",
              "      <td>3</td>\n",
              "    </tr>\n",
              "    <tr>\n",
              "      <th>256</th>\n",
              "      <td>8</td>\n",
              "      <td>3</td>\n",
              "    </tr>\n",
              "    <tr>\n",
              "      <th>257</th>\n",
              "      <td>7</td>\n",
              "      <td>3</td>\n",
              "    </tr>\n",
              "    <tr>\n",
              "      <th>258</th>\n",
              "      <td>8</td>\n",
              "      <td>3</td>\n",
              "    </tr>\n",
              "  </tbody>\n",
              "</table>\n",
              "</div>"
            ],
            "text/plain": [
              "    Char  Target\n",
              "241    N       3\n",
              "242    L       3\n",
              "243    4       3\n",
              "244    1       3\n",
              "245    R       3\n",
              "246    A       3\n",
              "247    B       3\n",
              "248    O       3\n",
              "249    0       3\n",
              "250    1       3\n",
              "251    5       3\n",
              "252    0       3\n",
              "253    4       3\n",
              "254    3       3\n",
              "255    7       3\n",
              "256    8       3\n",
              "257    7       3\n",
              "258    8       3"
            ]
          },
          "metadata": {
            "tags": []
          },
          "execution_count": 141
        }
      ]
    },
    {
      "metadata": {
        "id": "h3_xND8ECbBR",
        "colab_type": "code",
        "colab": {
          "autoexec": {
            "startup": false,
            "wait_interval": 0
          }
        }
      },
      "cell_type": "code",
      "source": [
        "# Create test data for predictions with neural net\n",
        "x_test = np.array(data)"
      ],
      "execution_count": 0,
      "outputs": []
    },
    {
      "metadata": {
        "id": "37XqNIIXCbD5",
        "colab_type": "code",
        "colab": {
          "autoexec": {
            "startup": false,
            "wait_interval": 0
          },
          "output_extras": [
            {
              "item_id": 1
            }
          ],
          "base_uri": "https://localhost:8080/",
          "height": 33
        },
        "outputId": "7ee5d7a5-faf5-41b1-ed45-0354656108ad",
        "executionInfo": {
          "status": "ok",
          "timestamp": 1521493597574,
          "user_tz": -60,
          "elapsed": 561,
          "user": {
            "displayName": "Arno Claes",
            "photoUrl": "https://lh3.googleusercontent.com/a/default-user=s128",
            "userId": "114929370230511213993"
          }
        }
      },
      "cell_type": "code",
      "source": [
        "x_test.shape"
      ],
      "execution_count": 143,
      "outputs": [
        {
          "output_type": "execute_result",
          "data": {
            "text/plain": [
              "(954, 71, 84)"
            ]
          },
          "metadata": {
            "tags": []
          },
          "execution_count": 143
        }
      ]
    },
    {
      "metadata": {
        "id": "YfkKr0IWCSge",
        "colab_type": "code",
        "colab": {
          "autoexec": {
            "startup": false,
            "wait_interval": 0
          }
        }
      },
      "cell_type": "code",
      "source": [
        "# Make predictions\n",
        "y_pred_simple = model_simple.predict(x_test)\n",
        "y_pred_complex = model_complex.predict(x_test)"
      ],
      "execution_count": 0,
      "outputs": []
    },
    {
      "metadata": {
        "id": "BUR13eT0CmOv",
        "colab_type": "code",
        "colab": {
          "autoexec": {
            "startup": false,
            "wait_interval": 0
          }
        }
      },
      "cell_type": "code",
      "source": [
        "# Get the maximum likely class\n",
        "y_pred_complex = y_pred_complex.argmax(axis=1)\n",
        "y_pred_simple = y_pred_simple.argmax(axis=1)"
      ],
      "execution_count": 0,
      "outputs": []
    },
    {
      "metadata": {
        "id": "J9NKI1Kh0th7",
        "colab_type": "code",
        "colab": {
          "autoexec": {
            "startup": false,
            "wait_interval": 0
          }
        }
      },
      "cell_type": "code",
      "source": [
        "for i in range(len(y_pred_complex)):\n",
        "  if y_pred_complex[i] != 0:\n",
        "    y_pred_complex[i] += 7"
      ],
      "execution_count": 0,
      "outputs": []
    },
    {
      "metadata": {
        "id": "gbyKK5ZBCmR3",
        "colab_type": "code",
        "colab": {
          "autoexec": {
            "startup": false,
            "wait_interval": 0
          }
        }
      },
      "cell_type": "code",
      "source": [
        "# Show how our model predictions look like\n",
        "df['Predicted'] = y_pred_complex"
      ],
      "execution_count": 0,
      "outputs": []
    },
    {
      "metadata": {
        "id": "oeW6Bm8TCmU3",
        "colab_type": "code",
        "colab": {
          "autoexec": {
            "startup": false,
            "wait_interval": 0
          },
          "output_extras": [
            {
              "item_id": 1
            }
          ],
          "base_uri": "https://localhost:8080/",
          "height": 1170
        },
        "outputId": "5cf4cc7b-4188-4ed8-efc1-7580dbba4887",
        "executionInfo": {
          "status": "ok",
          "timestamp": 1521493606643,
          "user_tz": -60,
          "elapsed": 829,
          "user": {
            "displayName": "Arno Claes",
            "photoUrl": "https://lh3.googleusercontent.com/a/default-user=s128",
            "userId": "114929370230511213993"
          }
        }
      },
      "cell_type": "code",
      "source": [
        "# Show all chars that are predicted to belong to the amount\n",
        "df[df.Predicted == 9]"
      ],
      "execution_count": 148,
      "outputs": [
        {
          "output_type": "execute_result",
          "data": {
            "text/html": [
              "<div>\n",
              "<style scoped>\n",
              "    .dataframe tbody tr th:only-of-type {\n",
              "        vertical-align: middle;\n",
              "    }\n",
              "\n",
              "    .dataframe tbody tr th {\n",
              "        vertical-align: top;\n",
              "    }\n",
              "\n",
              "    .dataframe thead th {\n",
              "        text-align: right;\n",
              "    }\n",
              "</style>\n",
              "<table border=\"1\" class=\"dataframe\">\n",
              "  <thead>\n",
              "    <tr style=\"text-align: right;\">\n",
              "      <th></th>\n",
              "      <th>Char</th>\n",
              "      <th>Target</th>\n",
              "      <th>Predicted</th>\n",
              "    </tr>\n",
              "  </thead>\n",
              "  <tbody>\n",
              "    <tr>\n",
              "      <th>476</th>\n",
              "      <td></td>\n",
              "      <td>8</td>\n",
              "      <td>9</td>\n",
              "    </tr>\n",
              "    <tr>\n",
              "      <th>486</th>\n",
              "      <td>7</td>\n",
              "      <td>9</td>\n",
              "      <td>9</td>\n",
              "    </tr>\n",
              "    <tr>\n",
              "      <th>487</th>\n",
              "      <td>.</td>\n",
              "      <td>9</td>\n",
              "      <td>9</td>\n",
              "    </tr>\n",
              "    <tr>\n",
              "      <th>488</th>\n",
              "      <td>0</td>\n",
              "      <td>9</td>\n",
              "      <td>9</td>\n",
              "    </tr>\n",
              "    <tr>\n",
              "      <th>489</th>\n",
              "      <td>0</td>\n",
              "      <td>9</td>\n",
              "      <td>9</td>\n",
              "    </tr>\n",
              "    <tr>\n",
              "      <th>490</th>\n",
              "      <td>\\n</td>\n",
              "      <td>0</td>\n",
              "      <td>9</td>\n",
              "    </tr>\n",
              "    <tr>\n",
              "      <th>491</th>\n",
              "      <td>\\n</td>\n",
              "      <td>0</td>\n",
              "      <td>9</td>\n",
              "    </tr>\n",
              "    <tr>\n",
              "      <th>501</th>\n",
              "      <td>1</td>\n",
              "      <td>0</td>\n",
              "      <td>9</td>\n",
              "    </tr>\n",
              "    <tr>\n",
              "      <th>586</th>\n",
              "      <td>\\n</td>\n",
              "      <td>0</td>\n",
              "      <td>9</td>\n",
              "    </tr>\n",
              "    <tr>\n",
              "      <th>587</th>\n",
              "      <td>3</td>\n",
              "      <td>9</td>\n",
              "      <td>9</td>\n",
              "    </tr>\n",
              "    <tr>\n",
              "      <th>588</th>\n",
              "      <td>.</td>\n",
              "      <td>9</td>\n",
              "      <td>9</td>\n",
              "    </tr>\n",
              "    <tr>\n",
              "      <th>589</th>\n",
              "      <td>0</td>\n",
              "      <td>9</td>\n",
              "      <td>9</td>\n",
              "    </tr>\n",
              "    <tr>\n",
              "      <th>590</th>\n",
              "      <td>0</td>\n",
              "      <td>9</td>\n",
              "      <td>9</td>\n",
              "    </tr>\n",
              "    <tr>\n",
              "      <th>591</th>\n",
              "      <td>\\n</td>\n",
              "      <td>0</td>\n",
              "      <td>9</td>\n",
              "    </tr>\n",
              "    <tr>\n",
              "      <th>693</th>\n",
              "      <td>\\n</td>\n",
              "      <td>0</td>\n",
              "      <td>9</td>\n",
              "    </tr>\n",
              "    <tr>\n",
              "      <th>694</th>\n",
              "      <td>1</td>\n",
              "      <td>9</td>\n",
              "      <td>9</td>\n",
              "    </tr>\n",
              "    <tr>\n",
              "      <th>695</th>\n",
              "      <td>.</td>\n",
              "      <td>9</td>\n",
              "      <td>9</td>\n",
              "    </tr>\n",
              "    <tr>\n",
              "      <th>696</th>\n",
              "      <td>0</td>\n",
              "      <td>9</td>\n",
              "      <td>9</td>\n",
              "    </tr>\n",
              "    <tr>\n",
              "      <th>697</th>\n",
              "      <td>0</td>\n",
              "      <td>9</td>\n",
              "      <td>9</td>\n",
              "    </tr>\n",
              "    <tr>\n",
              "      <th>698</th>\n",
              "      <td>\\n</td>\n",
              "      <td>0</td>\n",
              "      <td>9</td>\n",
              "    </tr>\n",
              "    <tr>\n",
              "      <th>746</th>\n",
              "      <td>l</td>\n",
              "      <td>8</td>\n",
              "      <td>9</td>\n",
              "    </tr>\n",
              "    <tr>\n",
              "      <th>757</th>\n",
              "      <td>\\n</td>\n",
              "      <td>0</td>\n",
              "      <td>9</td>\n",
              "    </tr>\n",
              "    <tr>\n",
              "      <th>758</th>\n",
              "      <td>1</td>\n",
              "      <td>0</td>\n",
              "      <td>9</td>\n",
              "    </tr>\n",
              "    <tr>\n",
              "      <th>759</th>\n",
              "      <td>.</td>\n",
              "      <td>0</td>\n",
              "      <td>9</td>\n",
              "    </tr>\n",
              "    <tr>\n",
              "      <th>760</th>\n",
              "      <td>0</td>\n",
              "      <td>0</td>\n",
              "      <td>9</td>\n",
              "    </tr>\n",
              "    <tr>\n",
              "      <th>761</th>\n",
              "      <td>0</td>\n",
              "      <td>0</td>\n",
              "      <td>9</td>\n",
              "    </tr>\n",
              "    <tr>\n",
              "      <th>762</th>\n",
              "      <td>\\n</td>\n",
              "      <td>0</td>\n",
              "      <td>9</td>\n",
              "    </tr>\n",
              "    <tr>\n",
              "      <th>763</th>\n",
              "      <td>\\n</td>\n",
              "      <td>0</td>\n",
              "      <td>9</td>\n",
              "    </tr>\n",
              "    <tr>\n",
              "      <th>780</th>\n",
              "      <td>8</td>\n",
              "      <td>0</td>\n",
              "      <td>9</td>\n",
              "    </tr>\n",
              "    <tr>\n",
              "      <th>781</th>\n",
              "      <td>3</td>\n",
              "      <td>0</td>\n",
              "      <td>9</td>\n",
              "    </tr>\n",
              "    <tr>\n",
              "      <th>782</th>\n",
              "      <td>.</td>\n",
              "      <td>0</td>\n",
              "      <td>9</td>\n",
              "    </tr>\n",
              "    <tr>\n",
              "      <th>783</th>\n",
              "      <td>0</td>\n",
              "      <td>0</td>\n",
              "      <td>9</td>\n",
              "    </tr>\n",
              "    <tr>\n",
              "      <th>784</th>\n",
              "      <td>4</td>\n",
              "      <td>0</td>\n",
              "      <td>9</td>\n",
              "    </tr>\n",
              "    <tr>\n",
              "      <th>785</th>\n",
              "      <td>\\n</td>\n",
              "      <td>0</td>\n",
              "      <td>9</td>\n",
              "    </tr>\n",
              "    <tr>\n",
              "      <th>786</th>\n",
              "      <td>\\n</td>\n",
              "      <td>0</td>\n",
              "      <td>9</td>\n",
              "    </tr>\n",
              "    <tr>\n",
              "      <th>787</th>\n",
              "      <td>�</td>\n",
              "      <td>0</td>\n",
              "      <td>9</td>\n",
              "    </tr>\n",
              "    <tr>\n",
              "      <th>788</th>\n",
              "      <td>�</td>\n",
              "      <td>0</td>\n",
              "      <td>9</td>\n",
              "    </tr>\n",
              "    <tr>\n",
              "      <th>789</th>\n",
              "      <td>�</td>\n",
              "      <td>0</td>\n",
              "      <td>9</td>\n",
              "    </tr>\n",
              "    <tr>\n",
              "      <th>801</th>\n",
              "      <td>T</td>\n",
              "      <td>0</td>\n",
              "      <td>9</td>\n",
              "    </tr>\n",
              "  </tbody>\n",
              "</table>\n",
              "</div>"
            ],
            "text/plain": [
              "    Char  Target  Predicted\n",
              "476            8          9\n",
              "486    7       9          9\n",
              "487    .       9          9\n",
              "488    0       9          9\n",
              "489    0       9          9\n",
              "490   \\n       0          9\n",
              "491   \\n       0          9\n",
              "501    1       0          9\n",
              "586   \\n       0          9\n",
              "587    3       9          9\n",
              "588    .       9          9\n",
              "589    0       9          9\n",
              "590    0       9          9\n",
              "591   \\n       0          9\n",
              "693   \\n       0          9\n",
              "694    1       9          9\n",
              "695    .       9          9\n",
              "696    0       9          9\n",
              "697    0       9          9\n",
              "698   \\n       0          9\n",
              "746    l       8          9\n",
              "757   \\n       0          9\n",
              "758    1       0          9\n",
              "759    .       0          9\n",
              "760    0       0          9\n",
              "761    0       0          9\n",
              "762   \\n       0          9\n",
              "763   \\n       0          9\n",
              "780    8       0          9\n",
              "781    3       0          9\n",
              "782    .       0          9\n",
              "783    0       0          9\n",
              "784    4       0          9\n",
              "785   \\n       0          9\n",
              "786   \\n       0          9\n",
              "787    �       0          9\n",
              "788    �       0          9\n",
              "789    �       0          9\n",
              "801    T       0          9"
            ]
          },
          "metadata": {
            "tags": []
          },
          "execution_count": 148
        }
      ]
    },
    {
      "metadata": {
        "id": "C2QXNv2ZCmYb",
        "colab_type": "code",
        "colab": {
          "autoexec": {
            "startup": false,
            "wait_interval": 0
          }
        }
      },
      "cell_type": "code",
      "source": [
        "from itertools import groupby\n",
        "# Create groups by the predicted output\n",
        "# The this code will return a tuple with the format\n",
        "# (category, length, starting index)\n",
        "\n",
        "# TODO: This code is ugly and very hard to understand\n",
        "# But it works\n",
        "\n",
        "def grouping(y_pred):\n",
        "\n",
        "  # Group by predicted category\n",
        "  g = groupby(enumerate(y_pred), lambda x:x[1])\n",
        "\n",
        "  # Create list of groups\n",
        "  l = [(x[0], list(x[1])) for x in g]\n",
        "\n",
        "  # Create list with tuples of groups\n",
        "  groups = [(x[0], len(x[1]), x[1][0][0]) for x in l]\n",
        "\n",
        "  return groups"
      ],
      "execution_count": 0,
      "outputs": []
    },
    {
      "metadata": {
        "id": "Ug-8R1Ya1zzh",
        "colab_type": "code",
        "colab": {
          "autoexec": {
            "startup": false,
            "wait_interval": 0
          }
        }
      },
      "cell_type": "code",
      "source": [
        "groups_simple = grouping(y_pred_simple)"
      ],
      "execution_count": 0,
      "outputs": []
    },
    {
      "metadata": {
        "id": "kBwCB18g3ZzI",
        "colab_type": "code",
        "colab": {
          "autoexec": {
            "startup": false,
            "wait_interval": 0
          }
        }
      },
      "cell_type": "code",
      "source": [
        "groups_complex = grouping(y_pred_complex)"
      ],
      "execution_count": 0,
      "outputs": []
    },
    {
      "metadata": {
        "id": "-eQKBR07Cmbn",
        "colab_type": "code",
        "colab": {
          "autoexec": {
            "startup": false,
            "wait_interval": 0
          },
          "output_extras": [
            {
              "item_id": 1
            }
          ],
          "base_uri": "https://localhost:8080/",
          "height": 655
        },
        "outputId": "ebd459fd-dcc6-411b-9388-9a3d74fc7206",
        "executionInfo": {
          "status": "ok",
          "timestamp": 1521493612551,
          "user_tz": -60,
          "elapsed": 563,
          "user": {
            "displayName": "Arno Claes",
            "photoUrl": "https://lh3.googleusercontent.com/a/default-user=s128",
            "userId": "114929370230511213993"
          }
        }
      },
      "cell_type": "code",
      "source": [
        "# Show grouping\n",
        "groups_complex"
      ],
      "execution_count": 152,
      "outputs": [
        {
          "output_type": "execute_result",
          "data": {
            "text/plain": [
              "[(0, 448, 0),\n",
              " (8, 28, 448),\n",
              " (9, 1, 476),\n",
              " (8, 7, 477),\n",
              " (10, 2, 484),\n",
              " (9, 6, 486),\n",
              " (0, 9, 492),\n",
              " (9, 1, 501),\n",
              " (0, 27, 502),\n",
              " (8, 57, 529),\n",
              " (9, 6, 586),\n",
              " (10, 2, 592),\n",
              " (0, 31, 594),\n",
              " (8, 1, 625),\n",
              " (0, 1, 626),\n",
              " (8, 1, 627),\n",
              " (0, 1, 628),\n",
              " (8, 63, 629),\n",
              " (10, 1, 692),\n",
              " (9, 6, 693),\n",
              " (0, 34, 699),\n",
              " (8, 1, 733),\n",
              " (0, 1, 734),\n",
              " (8, 1, 735),\n",
              " (0, 1, 736),\n",
              " (8, 9, 737),\n",
              " (9, 1, 746),\n",
              " (8, 9, 747),\n",
              " (10, 1, 756),\n",
              " (9, 7, 757),\n",
              " (10, 13, 764),\n",
              " (0, 1, 777),\n",
              " (10, 2, 778),\n",
              " (9, 10, 780),\n",
              " (10, 10, 790),\n",
              " (0, 1, 800),\n",
              " (9, 1, 801),\n",
              " (0, 152, 802)]"
            ]
          },
          "metadata": {
            "tags": []
          },
          "execution_count": 152
        }
      ]
    },
    {
      "metadata": {
        "id": "-pGRS9EbCmew",
        "colab_type": "code",
        "colab": {
          "autoexec": {
            "startup": false,
            "wait_interval": 0
          }
        }
      },
      "cell_type": "code",
      "source": [
        "def candidates(groups,chars):\n",
        "  '''\n",
        "  We only want to consider sequences of predictions of the same type \n",
        "  that have a minimum length. This way we remove the noise\n",
        "  But we also might remove some good predictions\n",
        "\n",
        "  The min length is set to 5 here, certainly a value to experiment with\n",
        "  '''\n",
        "  candidates = []\n",
        "  # Loop over all groups\n",
        "  for group in groups:\n",
        "\n",
        "      # Unpack group\n",
        "      category, length, index = group\n",
        "\n",
        "      # Ignore the ignore category and only consider category sequences longer than 5\n",
        "      if category != 0 and length > 5:\n",
        "          # Create text\n",
        "          candidate_text = ''.join(chars[index:index+length])\n",
        "          # Remove line breaks, this is just one way to prettify outputs!\n",
        "          candidate_text = candidate_text.replace('\\n','')\n",
        "          candidates.append((candidate_text,category))\n",
        "  return candidates"
      ],
      "execution_count": 0,
      "outputs": []
    },
    {
      "metadata": {
        "id": "mThPHLtT4EoH",
        "colab_type": "code",
        "colab": {
          "autoexec": {
            "startup": false,
            "wait_interval": 0
          }
        }
      },
      "cell_type": "code",
      "source": [
        "candidates_simple = candidates(groups_simple,chars)\n",
        "candidates_complex = candidates(groups_complex,chars)"
      ],
      "execution_count": 0,
      "outputs": []
    },
    {
      "metadata": {
        "id": "DyS5ac5Z72uX",
        "colab_type": "code",
        "colab": {
          "autoexec": {
            "startup": false,
            "wait_interval": 0
          },
          "output_extras": [
            {
              "item_id": 1
            }
          ],
          "base_uri": "https://localhost:8080/",
          "height": 151
        },
        "outputId": "66d2c71f-0e0f-48d1-d52c-c591c9508c90",
        "executionInfo": {
          "status": "ok",
          "timestamp": 1521493616936,
          "user_tz": -60,
          "elapsed": 490,
          "user": {
            "displayName": "Arno Claes",
            "photoUrl": "https://lh3.googleusercontent.com/a/default-user=s128",
            "userId": "114929370230511213993"
          }
        }
      },
      "cell_type": "code",
      "source": [
        "candidates_simple"
      ],
      "execution_count": 155,
      "outputs": [
        {
          "output_type": "execute_result",
          "data": {
            "text/plain": [
              "[('torec%Aan:', 3),\n",
              " ('Amazon NL International Holdings B.V.Johanna We', 1),\n",
              " ('699889780', 2),\n",
              " ('KNL41RABO0150437878R', 3),\n",
              " ('ABONL2U0', 1),\n",
              " ('YZCL1', 4),\n",
              " ('\\xac 8104.68', 5),\n",
              " ('ardenDelivery after payment', 6)]"
            ]
          },
          "metadata": {
            "tags": []
          },
          "execution_count": 155
        }
      ]
    },
    {
      "metadata": {
        "id": "gnYngXQUCyYC",
        "colab_type": "code",
        "colab": {
          "autoexec": {
            "startup": false,
            "wait_interval": 0
          }
        }
      },
      "cell_type": "code",
      "source": [
        "'''\n",
        "Ignore:           0\n",
        "Sender Name:      1 \n",
        "Sender KVK:       2 \n",
        "Sender IBAN:      3 \n",
        "Invoice Reference:4\n",
        "Total:            5\n",
        "Conditions:       6\n",
        "Date:             7\n",
        "Item:             8\n",
        "Item Total:       9\n",
        "Item Q:          10\n",
        "'''\n",
        "\n",
        "\n",
        "sorting_simple = sorted(candidates_simple, key=lambda tup: tup[1])\n",
        "sorting_complex = sorted(candidates_complex, key=lambda tup: tup[1])"
      ],
      "execution_count": 0,
      "outputs": []
    },
    {
      "metadata": {
        "id": "MiZrVcDXsa5y",
        "colab_type": "code",
        "colab": {
          "autoexec": {
            "startup": false,
            "wait_interval": 0
          },
          "output_extras": [
            {
              "item_id": 1
            }
          ],
          "base_uri": "https://localhost:8080/",
          "height": 151
        },
        "outputId": "5393e56a-b4d2-4b4c-a784-726303c88feb",
        "executionInfo": {
          "status": "ok",
          "timestamp": 1521493620218,
          "user_tz": -60,
          "elapsed": 610,
          "user": {
            "displayName": "Arno Claes",
            "photoUrl": "https://lh3.googleusercontent.com/a/default-user=s128",
            "userId": "114929370230511213993"
          }
        }
      },
      "cell_type": "code",
      "source": [
        "sorting_simple"
      ],
      "execution_count": 157,
      "outputs": [
        {
          "output_type": "execute_result",
          "data": {
            "text/plain": [
              "[('Amazon NL International Holdings B.V.Johanna We', 1),\n",
              " ('ABONL2U0', 1),\n",
              " ('699889780', 2),\n",
              " ('torec%Aan:', 3),\n",
              " ('KNL41RABO0150437878R', 3),\n",
              " ('YZCL1', 4),\n",
              " ('\\xac 8104.68', 5),\n",
              " ('ardenDelivery after payment', 6)]"
            ]
          },
          "metadata": {
            "tags": []
          },
          "execution_count": 157
        }
      ]
    },
    {
      "metadata": {
        "id": "QuDT3jKaS55P",
        "colab_type": "code",
        "colab": {
          "autoexec": {
            "startup": false,
            "wait_interval": 0
          }
        }
      },
      "cell_type": "code",
      "source": [
        "# Put the prediction to panda dataframe for easier handling\n",
        "df_s = pd.DataFrame(sorting_simple)\n",
        "df_c = pd.DataFrame(sorting_complex)"
      ],
      "execution_count": 0,
      "outputs": []
    },
    {
      "metadata": {
        "id": "g0EjR1jZhYDZ",
        "colab_type": "code",
        "colab": {
          "autoexec": {
            "startup": false,
            "wait_interval": 0
          },
          "output_extras": [
            {
              "item_id": 1
            }
          ],
          "base_uri": "https://localhost:8080/",
          "height": 386
        },
        "outputId": "0979ba58-5de0-485e-ed86-b89b9059d427",
        "executionInfo": {
          "status": "ok",
          "timestamp": 1521493623565,
          "user_tz": -60,
          "elapsed": 536,
          "user": {
            "displayName": "Arno Claes",
            "photoUrl": "https://lh3.googleusercontent.com/a/default-user=s128",
            "userId": "114929370230511213993"
          }
        }
      },
      "cell_type": "code",
      "source": [
        "# Rename the columns - important for later definitions - \n",
        "df_s.columns = ['Prediction', 'Target']\n",
        "df_c.columns = ['Prediction', 'Target']\n",
        "df = pd.concat([df_s,df_c])\n",
        "print(df)"
      ],
      "execution_count": 159,
      "outputs": [
        {
          "output_type": "stream",
          "text": [
            "                                           Prediction  Target\n",
            "0     Amazon NL International Holdings B.V.Johanna We       1\n",
            "1                                            ABONL2U0       1\n",
            "2                                           699889780       2\n",
            "3                                          torec%Aan:       3\n",
            "4                                KNL41RABO0150437878R       3\n",
            "5                                               YZCL1       4\n",
            "6                                           � 8104.68       5\n",
            "7                         ardenDelivery after payment       6\n",
            "0                        ZIONOR Lagopus Ski Snowboard       8\n",
            "1                                             Goggles       8\n",
            "2   TechMatte MagGrip Air Vent Magnetic Universal ...       8\n",
            "3   Criacr Bluetooth FM Transmitter, Wireless In-C...       8\n",
            "4                                           VIDIA Tes       8\n",
            "5                                           a K80 GPU       8\n",
            "6                                                7.00       9\n",
            "7                                                3.00       9\n",
            "8                                                1.00       9\n",
            "9                                                1.00       9\n",
            "10                                             83.04€       9\n",
            "11                                          € 691.98�      10\n",
            "12                                            691.98T      10\n"
          ],
          "name": "stdout"
        }
      ]
    },
    {
      "metadata": {
        "id": "V-piFn73q5wA",
        "colab_type": "code",
        "colab": {
          "autoexec": {
            "startup": false,
            "wait_interval": 0
          }
        }
      },
      "cell_type": "code",
      "source": [
        "# Get the name from the prediction\n",
        "if (df.loc[df['Target'] == 1]['Prediction']== np.nan).as_matrix()[0]==False:\n",
        "  Name = df.loc[df['Target'] == 1]['Prediction'].as_matrix()[0]\n",
        "else:\n",
        "  print(\"No company name could be found.\")"
      ],
      "execution_count": 0,
      "outputs": []
    },
    {
      "metadata": {
        "id": "4DCnoP-Bb9PM",
        "colab_type": "code",
        "colab": {
          "autoexec": {
            "startup": false,
            "wait_interval": 0
          }
        }
      },
      "cell_type": "code",
      "source": [
        "# Find KVK to search for with Google or KVK-API.\n",
        "# The dataframe should have two columns: Prediction, Target.\n",
        "# Prediction being column 0, and the predicted name, kvk number, ...\n",
        "# Target is column 1, and the target number of the prediction. 0,1,2,...\n",
        "def find_KVK(df):\n",
        "  # Extract KVK from prediction\n",
        "  KVK = df.loc[df['Target'] == 2]['Prediction'].str.extract('(^\\d*)').as_matrix()\n",
        "  #If a KVK number has the wrong amount of numbers, take the first and last 8.\n",
        "  KVK_candidates = []\n",
        "  for i in range(len(KVK)):\n",
        "    if KVK[i] == 8:\n",
        "      KVK_candidates.append(KVK[i])\n",
        "    elif KVK[i] > 8:\n",
        "      KVK_candidates.append(KVK[i][-8:])\n",
        "      KVK_candidates.append(KVK[i][:8])  \n",
        "\n",
        "  #Remove empty elements\n",
        "  KVK_candidates = list(filter(None, KVK_candidates))\n",
        "  \n",
        "  return KVK_candidates"
      ],
      "execution_count": 0,
      "outputs": []
    },
    {
      "metadata": {
        "id": "k3_J6eKidHD0",
        "colab_type": "code",
        "colab": {
          "autoexec": {
            "startup": false,
            "wait_interval": 0
          },
          "output_extras": [
            {
              "item_id": 1
            }
          ],
          "base_uri": "https://localhost:8080/",
          "height": 70
        },
        "outputId": "83a1c2f6-638f-4c7d-9b50-cd64db6ef968",
        "executionInfo": {
          "status": "ok",
          "timestamp": 1521493107370,
          "user_tz": -60,
          "elapsed": 710,
          "user": {
            "displayName": "Arno Claes",
            "photoUrl": "https://lh3.googleusercontent.com/a/default-user=s128",
            "userId": "114929370230511213993"
          }
        }
      },
      "cell_type": "code",
      "source": [
        "# Run the above definition with the predictions\n",
        "KVK_candidates = find_KVK(df)"
      ],
      "execution_count": 128,
      "outputs": [
        {
          "output_type": "stream",
          "text": [
            "/usr/local/lib/python2.7/dist-packages/ipykernel_launcher.py:3: FutureWarning: currently extract(expand=None) means expand=False (return Index/Series/DataFrame) but in a future version of pandas this will be changed to expand=True (return DataFrame)\n",
            "  This is separate from the ipykernel package so we can avoid doing imports until\n"
          ],
          "name": "stderr"
        }
      ]
    },
    {
      "metadata": {
        "id": "4RDYHKoWdByi",
        "colab_type": "code",
        "colab": {
          "autoexec": {
            "startup": false,
            "wait_interval": 0
          }
        }
      },
      "cell_type": "code",
      "source": [
        "KVK_cand_text = []\n",
        "for i in range(len(KVK_candidates)):\n",
        "  KVK_cand_text.append(str(KVK_candidates[i]) + \" nl\")\n",
        "  # Add nl, because googlesearch method looks at international google results."
      ],
      "execution_count": 0,
      "outputs": []
    },
    {
      "metadata": {
        "id": "mOhaGOe3ihp5",
        "colab_type": "code",
        "colab": {
          "autoexec": {
            "startup": false,
            "wait_interval": 0
          }
        }
      },
      "cell_type": "code",
      "source": [
        "# Use this github method - credit to: https://github.com/anthonyhseb/googlesearch - to find google results.\n",
        "from googlesearch.googlesearch import GoogleSearch\n",
        "titles = [[],[]]\n",
        "for i in range(len(KVK_cand_text)):\n",
        "  response = GoogleSearch().search(KVK_cand_text[i])\n",
        "  for result in response.results:\n",
        "      titles[0].append(result.title)\n",
        "      titles[1].append(KVK_candidates[i])\n",
        " # num_results could be used to limit search results\n"
      ],
      "execution_count": 0,
      "outputs": []
    },
    {
      "metadata": {
        "id": "xwjqOoOkpNyh",
        "colab_type": "code",
        "colab": {
          "autoexec": {
            "startup": false,
            "wait_interval": 0
          },
          "output_extras": [
            {
              "item_id": 1
            }
          ],
          "base_uri": "https://localhost:8080/",
          "height": 689
        },
        "outputId": "6315e4f6-a089-4a99-f1a1-0d69002eb736",
        "executionInfo": {
          "status": "ok",
          "timestamp": 1521493302457,
          "user_tz": -60,
          "elapsed": 711,
          "user": {
            "displayName": "Arno Claes",
            "photoUrl": "https://lh3.googleusercontent.com/a/default-user=s128",
            "userId": "114929370230511213993"
          }
        }
      },
      "cell_type": "code",
      "source": [
        "titles"
      ],
      "execution_count": 131,
      "outputs": [
        {
          "output_type": "execute_result",
          "data": {
            "text/plain": [
              "[[u'The Winnipeg Tribune from Winnipeg, on June 3, 1920 \\xb7 Page 8',\n",
              "  u'chargemaster - Office of Statewide Health Planning and Development',\n",
              "  u'Hengels - Hissink Videobewaking Service',\n",
              "  u'Miembro - B\\xfasqueda - Delcampe',\n",
              "  u'Prijslijst geldig vanaf: Prof + Chemie 24-3-2014',\n",
              "  u'PERM, RUSLAND - 9 Januari 2015: Kerstboom In De Buurt Van ...',\n",
              "  u'PERM, RUSLAND - 5 Januari 2015: De Mensen Lopen In Ice ... - 123RF',\n",
              "  u'Prijslijst geldig vanaf: Prof + Chemie 24-3-2014 - Rodeo - doczz',\n",
              "  u'Jobmonitor. Search results for endabnahme endabnahme',\n",
              "  u'06 Nummer reeks 06-44210000 06-44219999 - WPOI.NL',\n",
              "  u'Ortec Finance Bv - Rotterdam 3011 XB (Rotterdam), Boompjes 40 ...',\n",
              "  u'ORTEC Finance BV | Rotterdam - Drimble',\n",
              "  u'ORTEC Finance BV | Amsterdam - Drimble',\n",
              "  u'ORTEC Finance B.V. - Oozo.nl',\n",
              "  u'ORTEC Finance B.V. - Oozo.nl',\n",
              "  u'Ortec Finance in Amsterdam | De Telefoongids',\n",
              "  u'Ton van Welie, CEO Ortec Finance - VBA beleggingsprofessionals',\n",
              "  u'Loopbaanori\\xebntatiedag - De Leidsche Flesch',\n",
              "  u'ALGEMENE VOORWAARDEN VOOR ... - Ortec Finance',\n",
              "  u'Algemene Voorwaarden Opleidingen - Insights | Ortec Finance'],\n",
              " ['44211480',\n",
              "  '44211480',\n",
              "  '44211480',\n",
              "  '44211480',\n",
              "  '44211480',\n",
              "  '44211480',\n",
              "  '44211480',\n",
              "  '44211480',\n",
              "  '44211480',\n",
              "  '44211480',\n",
              "  '24421148',\n",
              "  '24421148',\n",
              "  '24421148',\n",
              "  '24421148',\n",
              "  '24421148',\n",
              "  '24421148',\n",
              "  '24421148',\n",
              "  '24421148',\n",
              "  '24421148',\n",
              "  '24421148']]"
            ]
          },
          "metadata": {
            "tags": []
          },
          "execution_count": 131
        }
      ]
    },
    {
      "metadata": {
        "id": "MzXVzvrJstAh",
        "colab_type": "code",
        "colab": {
          "autoexec": {
            "startup": false,
            "wait_interval": 0
          },
          "output_extras": [
            {
              "item_id": 1
            }
          ],
          "base_uri": "https://localhost:8080/",
          "height": 33
        },
        "outputId": "ed53318b-d80a-4ea1-ca51-e979cc790cbb",
        "executionInfo": {
          "status": "ok",
          "timestamp": 1521493308871,
          "user_tz": -60,
          "elapsed": 443,
          "user": {
            "displayName": "Arno Claes",
            "photoUrl": "https://lh3.googleusercontent.com/a/default-user=s128",
            "userId": "114929370230511213993"
          }
        }
      },
      "cell_type": "code",
      "source": [
        "Name"
      ],
      "execution_count": 132,
      "outputs": [
        {
          "output_type": "execute_result",
          "data": {
            "text/plain": [
              "'f-torec%Aan:ORTEC Finance B.V.Boompjes 4030'"
            ]
          },
          "metadata": {
            "tags": []
          },
          "execution_count": 132
        }
      ]
    },
    {
      "metadata": {
        "id": "LZFFyQK8qw9Z",
        "colab_type": "code",
        "colab": {
          "autoexec": {
            "startup": false,
            "wait_interval": 0
          }
        }
      },
      "cell_type": "code",
      "source": [
        "import difflib\n",
        "# Find the closest match to the name prediction\n",
        "closest_match = difflib.get_close_matches(Name, titles[0], 2)\n",
        "# Cleaning the output\n",
        "closest_match = [item.encode('utf-8') for item in closest_match]"
      ],
      "execution_count": 0,
      "outputs": []
    },
    {
      "metadata": {
        "id": "K8dbND2wu_3C",
        "colab_type": "code",
        "colab": {
          "autoexec": {
            "startup": false,
            "wait_interval": 0
          },
          "output_extras": [
            {
              "item_id": 1
            }
          ],
          "base_uri": "https://localhost:8080/",
          "height": 33
        },
        "outputId": "1d1860ee-53da-4e8f-a266-8a7dd8a928f5",
        "executionInfo": {
          "status": "ok",
          "timestamp": 1521493313654,
          "user_tz": -60,
          "elapsed": 692,
          "user": {
            "displayName": "Arno Claes",
            "photoUrl": "https://lh3.googleusercontent.com/a/default-user=s128",
            "userId": "114929370230511213993"
          }
        }
      },
      "cell_type": "code",
      "source": [
        "closest_match"
      ],
      "execution_count": 134,
      "outputs": [
        {
          "output_type": "execute_result",
          "data": {
            "text/plain": [
              "[]"
            ]
          },
          "metadata": {
            "tags": []
          },
          "execution_count": 134
        }
      ]
    },
    {
      "metadata": {
        "id": "-NqJ1DYjrKii",
        "colab_type": "code",
        "colab": {
          "autoexec": {
            "startup": false,
            "wait_interval": 0
          },
          "output_extras": [
            {
              "item_id": 1
            }
          ],
          "base_uri": "https://localhost:8080/",
          "height": 33
        },
        "outputId": "fec006d4-1f2f-4f38-8e78-98612e293728",
        "executionInfo": {
          "status": "ok",
          "timestamp": 1521493323344,
          "user_tz": -60,
          "elapsed": 654,
          "user": {
            "displayName": "Arno Claes",
            "photoUrl": "https://lh3.googleusercontent.com/a/default-user=s128",
            "userId": "114929370230511213993"
          }
        }
      },
      "cell_type": "code",
      "source": [
        "if len(closest_match) == 0:\n",
        "  print(\"No match was found!\")\n",
        "else:\n",
        "  print(\"Company name is \" + closest_match[0])\n",
        "  print(\"Wit\")"
      ],
      "execution_count": 135,
      "outputs": [
        {
          "output_type": "stream",
          "text": [
            "No match was found!\n"
          ],
          "name": "stdout"
        }
      ]
    },
    {
      "metadata": {
        "id": "eOyByOCuqKl5",
        "colab_type": "text"
      },
      "cell_type": "markdown",
      "source": [
        "The results above could be used to auto-fill the name once the accountant starts filling in the field."
      ]
    }
  ]
}